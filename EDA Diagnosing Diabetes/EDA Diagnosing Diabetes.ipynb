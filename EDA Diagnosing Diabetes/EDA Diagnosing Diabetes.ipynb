{
 "cells": [
  {
   "cell_type": "markdown",
   "id": "f4c71b09",
   "metadata": {},
   "source": [
    "# EDA: Diagnosing Diabetes"
   ]
  },
  {
   "cell_type": "markdown",
   "id": "7cf00067",
   "metadata": {},
   "source": [
    "In this project, you'll imagine you are a data scientist interested in exploring data that looks at how certain diagnostic factors affect the diabetes outcome of women patients.\n",
    "\n",
    "You will use your EDA skills to help inspect, clean, and validate the data.\n",
    "\n",
    "**Note**: This [dataset](https://www.kaggle.com/uciml/pima-indians-diabetes-database) is from the National Institute of Diabetes and Digestive and Kidney Diseases. It contains the following columns:\n",
    "\n",
    "- `Pregnancies`: Number of times pregnant\n",
    "- `Glucose`: Plasma glucose concentration per 2 hours in an oral glucose tolerance test\n",
    "- `BloodPressure`: Diastolic blood pressure\n",
    "- `SkinThickness`: Triceps skinfold thickness\n",
    "- `Insulin`: 2-Hour serum insulin\n",
    "- `BMI`: Body mass index\n",
    "- `DiabetesPedigreeFunction`: Diabetes pedigree function\n",
    "- `Age`: Age (years)\n",
    "- `Outcome`: Class variable (0 or 1)\n",
    "\n",
    "Let's get started!"
   ]
  },
  {
   "cell_type": "markdown",
   "id": "6e1cc217",
   "metadata": {},
   "source": [
    "## Initial Inspection"
   ]
  },
  {
   "cell_type": "markdown",
   "id": "76684c5b",
   "metadata": {},
   "source": [
    "1. First, familiarize yourself with the dataset [here](https://www.kaggle.com/uciml/pima-indians-diabetes-database).\n",
    "\n",
    "   Look at each of the nine columns in the documentation.\n",
    "   \n",
    "   What do you expect each data type to be?"
   ]
  },
  {
   "cell_type": "markdown",
   "id": "f7bdb023",
   "metadata": {},
   "source": [
    "Expected data type for each column:\n",
    "\n",
    "- `Pregnancies`: int\n",
    "- `Glucose`: float\n",
    "- `BloodPressure`: float\n",
    "- `SkinThickness`: int\n",
    "- `Insulin`: float\n",
    "- `BMI`: float\n",
    "- `DiabetesPedigreeFunction`: float\n",
    "- `Age`: int\n",
    "- `Outcome`: bool"
   ]
  },
  {
   "cell_type": "markdown",
   "id": "fc54249b",
   "metadata": {},
   "source": [
    "2. Next, let's load in the diabetes data to start exploring.\n",
    "\n",
    "   Load the data in a variable called `diabetes_data` and print the first few rows.\n",
    "   \n",
    "   **Note**: The data is stored in a file called `diabetes.csv`."
   ]
  },
  {
   "cell_type": "code",
   "execution_count": 1,
   "id": "4839762f",
   "metadata": {},
   "outputs": [
    {
     "name": "stdout",
     "output_type": "stream",
     "text": [
      "   Pregnancies  Glucose  BloodPressure  SkinThickness  Insulin   BMI  \\\n",
      "0            6      148             72             35        0  33.6   \n",
      "1            1       85             66             29        0  26.6   \n",
      "2            8      183             64              0        0  23.3   \n",
      "3            1       89             66             23       94  28.1   \n",
      "4            0      137             40             35      168  43.1   \n",
      "\n",
      "   DiabetesPedigreeFunction  Age Outcome  \n",
      "0                     0.627   50       1  \n",
      "1                     0.351   31       0  \n",
      "2                     0.672   32       1  \n",
      "3                     0.167   21       0  \n",
      "4                     2.288   33       1  \n"
     ]
    }
   ],
   "source": [
    "import pandas as pd\n",
    "import numpy as np\n",
    "\n",
    "# load in data\n",
    "diabetes_data = pd.read_csv('diabetes.csv')\n",
    "\n",
    "print(diabetes_data.head())\n"
   ]
  },
  {
   "cell_type": "markdown",
   "id": "90d35b44",
   "metadata": {},
   "source": [
    "3. How many columns (features) does the data contain?"
   ]
  },
  {
   "cell_type": "code",
   "execution_count": 2,
   "id": "c7fc98c4",
   "metadata": {},
   "outputs": [
    {
     "name": "stdout",
     "output_type": "stream",
     "text": [
      "9\n"
     ]
    }
   ],
   "source": [
    "# print number of columns\n",
    "print(len(diabetes_data.columns))"
   ]
  },
  {
   "cell_type": "markdown",
   "id": "35d2bf80",
   "metadata": {},
   "source": [
    "4. How many rows (observations) does the data contain?"
   ]
  },
  {
   "cell_type": "code",
   "execution_count": 3,
   "id": "190b7a90",
   "metadata": {},
   "outputs": [
    {
     "name": "stdout",
     "output_type": "stream",
     "text": [
      "768\n"
     ]
    }
   ],
   "source": [
    "# print number of rows\n",
    "#we can just use the count() function on any column\n",
    "\n",
    "print(diabetes_data.Pregnancies.count())"
   ]
  },
  {
   "cell_type": "markdown",
   "id": "65d8ddf0",
   "metadata": {},
   "source": [
    "## Further Inspection"
   ]
  },
  {
   "cell_type": "markdown",
   "id": "04e3c6ef",
   "metadata": {},
   "source": [
    "5. Let's inspect `diabetes_data` further.\n",
    "\n",
    "   Do any of the columns in the data contain null (missing) values?"
   ]
  },
  {
   "cell_type": "code",
   "execution_count": 4,
   "id": "d0fa3860",
   "metadata": {},
   "outputs": [
    {
     "name": "stdout",
     "output_type": "stream",
     "text": [
      "Empty DataFrame\n",
      "Columns: [Pregnancies, Glucose, BloodPressure, SkinThickness, Insulin, BMI, DiabetesPedigreeFunction, Age, Outcome]\n",
      "Index: []\n"
     ]
    }
   ],
   "source": [
    "# find whether columns contain null values\n",
    "\n",
    "diabetes_data_null = diabetes_data[diabetes_data.isnull().any(axis=1)]\n",
    "\n",
    "print(diabetes_data_null)\n"
   ]
  },
  {
   "cell_type": "markdown",
   "id": "8ee62c01",
   "metadata": {},
   "source": [
    "6. If you answered no to the question above, not so fast!\n",
    "\n",
    "   While it's technically true that none of the columns contain null values, that doesn't necessarily mean that the data isn't missing any values.\n",
    "   \n",
    "   When exploring data, you should always question your assumptions and try to dig deeper.\n",
    "   \n",
    "   To investigate further, calculate summary statistics on `diabetes_data` using the `.describe()` method."
   ]
  },
  {
   "cell_type": "code",
   "execution_count": 5,
   "id": "451efb00",
   "metadata": {},
   "outputs": [
    {
     "name": "stdout",
     "output_type": "stream",
     "text": [
      "       Pregnancies     Glucose  BloodPressure  SkinThickness     Insulin  \\\n",
      "count   768.000000  768.000000     768.000000     768.000000  768.000000   \n",
      "mean      3.845052  120.894531      69.105469      20.536458   79.799479   \n",
      "std       3.369578   31.972618      19.355807      15.952218  115.244002   \n",
      "min       0.000000    0.000000       0.000000       0.000000    0.000000   \n",
      "25%       1.000000   99.000000      62.000000       0.000000    0.000000   \n",
      "50%       3.000000  117.000000      72.000000      23.000000   30.500000   \n",
      "75%       6.000000  140.250000      80.000000      32.000000  127.250000   \n",
      "max      17.000000  199.000000     122.000000      99.000000  846.000000   \n",
      "\n",
      "              BMI  DiabetesPedigreeFunction         Age  \n",
      "count  768.000000                768.000000  768.000000  \n",
      "mean    31.992578                  0.471876   33.240885  \n",
      "std      7.884160                  0.331329   11.760232  \n",
      "min      0.000000                  0.078000   21.000000  \n",
      "25%     27.300000                  0.243750   24.000000  \n",
      "50%     32.000000                  0.372500   29.000000  \n",
      "75%     36.600000                  0.626250   41.000000  \n",
      "max     67.100000                  2.420000   81.000000  \n"
     ]
    }
   ],
   "source": [
    "# perform summary statistics\n",
    "print(diabetes_data.describe())"
   ]
  },
  {
   "cell_type": "markdown",
   "id": "ad900272",
   "metadata": {},
   "source": [
    "7. Looking at the summary statistics, do you notice anything odd about the following columns?\n",
    "\n",
    "   - `Glucose`\n",
    "   - `BloodPressure`\n",
    "   - `SkinThickness`\n",
    "   - `Insulin`\n",
    "   - `BMI`"
   ]
  },
  {
   "cell_type": "markdown",
   "id": "7131eacb",
   "metadata": {},
   "source": [
    "**Your response to question 7**: It's not possible in practice to find a value of 0 for these variables. It indicates non-measured values set to 0."
   ]
  },
  {
   "cell_type": "markdown",
   "id": "3ed15b79",
   "metadata": {},
   "source": [
    "8. Do you spot any other outliers in the data?"
   ]
  },
  {
   "cell_type": "markdown",
   "id": "8a708e88",
   "metadata": {},
   "source": [
    "**Your response to question 8**: \n",
    "Pregnancies max of 17 while average is around 4\n",
    "Skin thickness max of 99, 5 times the average\n",
    "Insulin max of 846, more than 10* the average\n",
    "Age max of 81 yo, more than 2 times the average\n"
   ]
  },
  {
   "cell_type": "markdown",
   "id": "4b5bcf47",
   "metadata": {},
   "source": [
    "9. Let's see if we can get a more accurate view of the missing values in the data.\n",
    "\n",
    "   Use the following code to replace the instances of `0` with `NaN` in the five columns mentioned:\n",
    "   \n",
    "   ```py\n",
    "   diabetes_data[['Glucose', 'BloodPressure', 'SkinThickness', 'Insulin', 'BMI']] = diabetes_data[['Glucose', 'BloodPressure', 'SkinThickness', 'Insulin', 'BMI']].replace(0, np.NaN)\n",
    "   ```"
   ]
  },
  {
   "cell_type": "code",
   "execution_count": 6,
   "id": "623def40",
   "metadata": {},
   "outputs": [],
   "source": [
    "# replace instances of 0 with NaN\n",
    "diabetes_data[['Glucose', 'BloodPressure', 'SkinThickness', 'Insulin', 'BMI']] = diabetes_data[['Glucose', 'BloodPressure', 'SkinThickness', 'Insulin', 'BMI']].replace(0, np.NaN)\n"
   ]
  },
  {
   "cell_type": "markdown",
   "id": "ad9fc71d",
   "metadata": {},
   "source": [
    "10. Next, check for missing (null) values in all of the columns just like you did in Step 5.\n",
    "\n",
    "    Now how many missing values are there?"
   ]
  },
  {
   "cell_type": "code",
   "execution_count": 7,
   "id": "1e4d2845",
   "metadata": {},
   "outputs": [
    {
     "name": "stdout",
     "output_type": "stream",
     "text": [
      "376\n"
     ]
    }
   ],
   "source": [
    "# find whether columns contain null values after replacements are made\n",
    "diabetes_data_null = diabetes_data[diabetes_data.isnull().any(axis=1)]\n",
    "print(len(diabetes_data_null))\n",
    "\n"
   ]
  },
  {
   "cell_type": "markdown",
   "id": "4265329e",
   "metadata": {},
   "source": [
    "11. Let's take a closer look at these rows to get a better idea of _why_ some data might be missing.\n",
    "\n",
    "    Print out all the rows that contain missing (null) values."
   ]
  },
  {
   "cell_type": "code",
   "execution_count": 12,
   "id": "91f5b1fe",
   "metadata": {
    "scrolled": true
   },
   "outputs": [
    {
     "name": "stdout",
     "output_type": "stream",
     "text": [
      "     Pregnancies  Glucose  BloodPressure  SkinThickness  Insulin   BMI  \\\n",
      "0              6    148.0           72.0           35.0      NaN  33.6   \n",
      "1              1     85.0           66.0           29.0      NaN  26.6   \n",
      "2              8    183.0           64.0            NaN      NaN  23.3   \n",
      "5              5    116.0           74.0            NaN      NaN  25.6   \n",
      "7             10    115.0            NaN            NaN      NaN  35.3   \n",
      "..           ...      ...            ...            ...      ...   ...   \n",
      "761            9    170.0           74.0           31.0      NaN  44.0   \n",
      "762            9     89.0           62.0            NaN      NaN  22.5   \n",
      "764            2    122.0           70.0           27.0      NaN  36.8   \n",
      "766            1    126.0           60.0            NaN      NaN  30.1   \n",
      "767            1     93.0           70.0           31.0      NaN  30.4   \n",
      "\n",
      "     DiabetesPedigreeFunction  Age Outcome  \n",
      "0                       0.627   50       1  \n",
      "1                       0.351   31       0  \n",
      "2                       0.672   32       1  \n",
      "5                       0.201   30       0  \n",
      "7                       0.134   29       0  \n",
      "..                        ...  ...     ...  \n",
      "761                     0.403   43       1  \n",
      "762                     0.142   33       0  \n",
      "764                     0.340   27       0  \n",
      "766                     0.349   47       1  \n",
      "767                     0.315   23       0  \n",
      "\n",
      "[376 rows x 9 columns]\n",
      "The column Glucose has 5 missing values\n",
      "The column BloodPressure has 35 missing values\n",
      "The column SkinThickness has 227 missing values\n",
      "The column Insulin has 374 missing values\n",
      "The column BMI has 11 missing values\n"
     ]
    }
   ],
   "source": [
    "# print rows with missing values\n",
    "\n",
    "print(diabetes_data_null)\n",
    "\n",
    "\n",
    "for i in range(1,6):\n",
    "    col = diabetes_data_null.columns[i]\n",
    "    null = diabetes_data_null[col].isnull()\n",
    "    print(f'The column {col} has {len(diabetes_data_null[null])} missing values')\n",
    "    \n",
    "\n",
    "\n",
    "\n"
   ]
  },
  {
   "cell_type": "markdown",
   "id": "e3f06a2e",
   "metadata": {},
   "source": [
    "12. Go through the rows with missing data. Do you notice any patterns or overlaps between the missing data?"
   ]
  },
  {
   "cell_type": "markdown",
   "id": "cb42cfe6",
   "metadata": {},
   "source": [
    "**Your response to question 12**: We observe that in almost all cases (374 out of 376 rows), the Insulin value is missing. The next most missing value is Skin Thickness. As for the rest of the variables, the number of missing values is relatively small. "
   ]
  },
  {
   "cell_type": "markdown",
   "id": "5b597d09",
   "metadata": {},
   "source": [
    "13. Next, take a closer look at the data types of each column in `diabetes_data`.\n",
    "\n",
    "    Does the result match what you would expect?"
   ]
  },
  {
   "cell_type": "code",
   "execution_count": 9,
   "id": "5855aa09",
   "metadata": {},
   "outputs": [
    {
     "name": "stdout",
     "output_type": "stream",
     "text": [
      "Pregnancies                   int64\n",
      "Glucose                     float64\n",
      "BloodPressure               float64\n",
      "SkinThickness               float64\n",
      "Insulin                     float64\n",
      "BMI                         float64\n",
      "DiabetesPedigreeFunction    float64\n",
      "Age                           int64\n",
      "Outcome                      object\n",
      "dtype: object\n"
     ]
    }
   ],
   "source": [
    "# print data types using .info() method\n",
    "print(diabetes_data.dtypes)\n"
   ]
  },
  {
   "cell_type": "markdown",
   "id": "c61b8b02",
   "metadata": {},
   "source": [
    "14. To figure out why the `Outcome` column is of type `object` (string) instead of type `int64`, print out the unique values in the `Outcome` column."
   ]
  },
  {
   "cell_type": "code",
   "execution_count": 10,
   "id": "ffedd117",
   "metadata": {},
   "outputs": [
    {
     "name": "stdout",
     "output_type": "stream",
     "text": [
      "['1' '0' 'O']\n"
     ]
    }
   ],
   "source": [
    "# print unique values of Outcome column\n",
    "print(diabetes_data.Outcome.unique())\n"
   ]
  },
  {
   "cell_type": "markdown",
   "id": "42b3bcbe",
   "metadata": {},
   "source": [
    "15. How might you resolve this issue?"
   ]
  },
  {
   "cell_type": "markdown",
   "id": "7495f5b6",
   "metadata": {},
   "source": [
    "**Your response to question 15**: Just by replacing the \"O\" values by 0. It is done in the below cell."
   ]
  },
  {
   "cell_type": "code",
   "execution_count": 11,
   "id": "1f305e36",
   "metadata": {},
   "outputs": [
    {
     "name": "stdout",
     "output_type": "stream",
     "text": [
      "['1' '0']\n"
     ]
    }
   ],
   "source": [
    "diabetes_data['Outcome'] = diabetes_data['Outcome'].replace('O', '0')\n",
    "print(diabetes_data.Outcome.unique())\n"
   ]
  },
  {
   "cell_type": "markdown",
   "id": "9c5fbcbe",
   "metadata": {},
   "source": [
    "## Next Steps:"
   ]
  },
  {
   "cell_type": "markdown",
   "id": "22a324d0",
   "metadata": {},
   "source": [
    "16. Congratulations! In this project, you saw how EDA can help with the initial data inspection and cleaning process. This is an important step as it helps to keep your datasets clean and reliable.\n",
    "\n",
    "    Here are some ways you might extend this project if you'd like:\n",
    "    - Use `.value_counts()` to more fully explore the values in each column.\n",
    "    - Investigate other outliers in the data that may be easily overlooked.\n",
    "    - Instead of changing the `0` values in the five columns to `NaN`, try replacing the values with the median or mean of each column."
   ]
  },
  {
   "cell_type": "code",
   "execution_count": 57,
   "id": "b7f440b6",
   "metadata": {},
   "outputs": [
    {
     "name": "stdout",
     "output_type": "stream",
     "text": [
      "Outcome\n",
      "0    494\n",
      "1    268\n",
      "O      6\n",
      "Name: count, dtype: int64\n",
      "Age\n",
      "22    72\n",
      "21    63\n",
      "25    48\n",
      "24    46\n",
      "23    38\n",
      "28    35\n",
      "26    33\n",
      "27    32\n",
      "29    29\n",
      "31    24\n",
      "41    22\n",
      "30    21\n",
      "37    19\n",
      "42    18\n",
      "33    17\n",
      "38    16\n",
      "36    16\n",
      "32    16\n",
      "45    15\n",
      "34    14\n",
      "46    13\n",
      "43    13\n",
      "40    13\n",
      "39    12\n",
      "35    10\n",
      "50     8\n",
      "51     8\n",
      "52     8\n",
      "44     8\n",
      "58     7\n",
      "47     6\n",
      "54     6\n",
      "49     5\n",
      "48     5\n",
      "57     5\n",
      "53     5\n",
      "60     5\n",
      "66     4\n",
      "63     4\n",
      "62     4\n",
      "55     4\n",
      "67     3\n",
      "56     3\n",
      "59     3\n",
      "65     3\n",
      "69     2\n",
      "61     2\n",
      "72     1\n",
      "81     1\n",
      "64     1\n",
      "70     1\n",
      "68     1\n",
      "Name: count, dtype: int64\n",
      "Pregnancies\n",
      "1     135\n",
      "0     111\n",
      "2     103\n",
      "3      75\n",
      "4      68\n",
      "5      57\n",
      "6      50\n",
      "7      45\n",
      "8      38\n",
      "9      28\n",
      "10     24\n",
      "11     11\n",
      "13     10\n",
      "12      9\n",
      "14      2\n",
      "15      1\n",
      "17      1\n",
      "Name: count, dtype: int64\n",
      "BMI\n",
      "32.000000    13\n",
      "31.600000    12\n",
      "31.200000    12\n",
      "32.457464    11\n",
      "32.400000    10\n",
      "             ..\n",
      "36.700000     1\n",
      "41.800000     1\n",
      "42.600000     1\n",
      "42.800000     1\n",
      "46.300000     1\n",
      "Name: count, Length: 248, dtype: int64\n",
      "3.8450520833333335\n",
      "     Pregnancies  Glucose  BloodPressure  SkinThickness     Insulin  \\\n",
      "2              8    183.0      64.000000       29.15342  155.548223   \n",
      "7             10    115.0      72.405184       29.15342  155.548223   \n",
      "9              8    125.0      96.000000       29.15342  155.548223   \n",
      "11            10    168.0      74.000000       29.15342  155.548223   \n",
      "12            10    139.0      80.000000       29.15342  155.548223   \n",
      "..           ...      ...            ...            ...         ...   \n",
      "745           12    100.0      84.000000       33.00000  105.000000   \n",
      "754            8    154.0      78.000000       32.00000  155.548223   \n",
      "761            9    170.0      74.000000       31.00000  155.548223   \n",
      "762            9     89.0      62.000000       29.15342  155.548223   \n",
      "763           10    101.0      76.000000       48.00000  180.000000   \n",
      "\n",
      "           BMI  DiabetesPedigreeFunction  Age Outcome  \n",
      "2    23.300000                     0.672   32       1  \n",
      "7    35.300000                     0.134   29       0  \n",
      "9    32.457464                     0.232   54       1  \n",
      "11   38.000000                     0.537   34       1  \n",
      "12   27.100000                     1.441   57       0  \n",
      "..         ...                       ...  ...     ...  \n",
      "745  30.000000                     0.488   46       0  \n",
      "754  32.400000                     0.443   45       1  \n",
      "761  44.000000                     0.403   43       1  \n",
      "762  22.500000                     0.142   33       0  \n",
      "763  32.900000                     0.171   63       0  \n",
      "\n",
      "[124 rows x 9 columns]\n",
      "32.457463672391015\n",
      "6.875151327503774\n",
      "     Pregnancies  Glucose  BloodPressure  SkinThickness     Insulin   BMI  \\\n",
      "57             0    100.0      88.000000       60.00000  110.000000  46.8   \n",
      "84             5    137.0     108.000000       29.15342  155.548223  48.8   \n",
      "92             7     81.0      78.000000       40.00000   48.000000  46.7   \n",
      "99             1    122.0      90.000000       51.00000  220.000000  49.7   \n",
      "120            0    162.0      76.000000       56.00000  100.000000  53.2   \n",
      "125            1     88.0      30.000000       42.00000   99.000000  55.0   \n",
      "154            8    188.0      78.000000       29.15342  155.548223  47.9   \n",
      "155            7    152.0      88.000000       44.00000  155.548223  50.0   \n",
      "177            0    129.0     110.000000       46.00000  130.000000  67.1   \n",
      "193           11    135.0      72.405184       29.15342  155.548223  52.3   \n",
      "239            0    104.0      76.000000       29.15342  155.548223  18.4   \n",
      "247            0    165.0      90.000000       33.00000  680.000000  52.3   \n",
      "303            5    115.0      98.000000       29.15342  155.548223  52.9   \n",
      "335            0    165.0      76.000000       43.00000  255.000000  47.9   \n",
      "378            4    156.0      75.000000       29.15342  155.548223  48.3   \n",
      "418            1     83.0      68.000000       29.15342  155.548223  18.2   \n",
      "438            1     97.0      70.000000       15.00000  155.548223  18.2   \n",
      "445            0    180.0      78.000000       63.00000   14.000000  59.4   \n",
      "487            0    173.0      78.000000       32.00000  265.000000  46.5   \n",
      "526            1     97.0      64.000000       19.00000   82.000000  18.2   \n",
      "590           11    111.0      84.000000       40.00000  155.548223  46.8   \n",
      "673            3    123.0     100.000000       35.00000  240.000000  57.3   \n",
      "681            0    162.0      76.000000       36.00000  155.548223  49.6   \n",
      "746            1    147.0      94.000000       41.00000  155.548223  49.3   \n",
      "747            1     81.0      74.000000       41.00000   57.000000  46.3   \n",
      "\n",
      "     DiabetesPedigreeFunction  Age Outcome  \n",
      "57                      0.962   31       0  \n",
      "84                      0.227   37       1  \n",
      "92                      0.261   42       0  \n",
      "99                      0.325   31       1  \n",
      "120                     0.759   25       1  \n",
      "125                     0.496   26       1  \n",
      "154                     0.137   43       1  \n",
      "155                     0.337   36       1  \n",
      "177                     0.319   26       1  \n",
      "193                     0.578   40       1  \n",
      "239                     0.582   27       0  \n",
      "247                     0.427   23       0  \n",
      "303                     0.209   28       1  \n",
      "335                     0.259   26       0  \n",
      "378                     0.238   32       1  \n",
      "418                     0.624   27       0  \n",
      "438                     0.147   21       0  \n",
      "445                     2.420   25       1  \n",
      "487                     1.159   58       0  \n",
      "526                     0.299   21       0  \n",
      "590                     0.925   45       1  \n",
      "673                     0.880   22       0  \n",
      "681                     0.364   26       1  \n",
      "746                     0.358   27       1  \n",
      "747                     1.096   32       0  \n",
      "25\n",
      "21\n",
      "24.0\n"
     ]
    }
   ],
   "source": [
    "# VALUE COUNTS\n",
    "\n",
    "#Testing the value counts function on a few columns\n",
    "print(diabetes_data.Outcome.value_counts())\n",
    "print(diabetes_data.Age.value_counts())\n",
    "print(diabetes_data.Pregnancies.value_counts())\n",
    "\n",
    "#Applying the function to a column featuring a continuous variable (BMI) yields much more results\n",
    "print(diabetes_data.BMI.value_counts())\n",
    "\n",
    "# OUTLIERS\n",
    "\n",
    "#Can we find some outliers in the 'Pregnancies' columns, with exceptionnally high number of pregnancies?\n",
    "#First calculate the mean: a bit less than 4\n",
    "print(diabetes_data.Pregnancies.mean())\n",
    "print(diabetes_data[diabetes_data.Pregnancies >= 8])\n",
    "#124 patients with at least two times more pregnancies than the average\n",
    "\n",
    "#Can we find outliers, up and low, in the 'BMI' column?\n",
    "mean = diabetes_data.BMI.mean()\n",
    "std = diabetes_data.BMI.std()\n",
    "print(diabetes_data.BMI.mean())\n",
    "print(diabetes_data.BMI.std())\n",
    "#Average is approx 34 and std deviation approx 7. Can we find values that are distant of at least 2 std deviations from the mean?\n",
    "print(diabetes_data[(diabetes_data.BMI >= mean +2*std) | (diabetes_data.BMI <= mean - 2*std)])\n",
    "print(len(diabetes_data[(diabetes_data.BMI >= mean +2*std) | (diabetes_data.BMI <= mean - 2*std)]))\n",
    "print(len(diabetes_data[diabetes_data.BMI >= mean +2*std]))\n",
    "#24 values are concerned, the most of them (20) being upper outliers\n",
    "\n",
    "#REPLACE BY MEAN instead of NaN\n",
    "\n",
    "diabetes_data = pd.read_csv('diabetes.csv')\n",
    "columns_to_change = ['Glucose', 'BloodPressure', 'SkinThickness', 'Insulin', 'BMI']\n",
    "\n",
    "\n",
    "\n",
    "for col in columns_to_change:    \n",
    "    #we make sure to give all missing values the same number, initial mean, instead of recalculating the mean each time\n",
    "    set = diabetes_data[diabetes_data[col] > 0]    \n",
    "    mean_t = set[col].mean()\n",
    "    diabetes_data[col] = diabetes_data[col].replace(0,mean_t)\n",
    "\n",
    "\n",
    "\n"
   ]
  },
  {
   "cell_type": "code",
   "execution_count": null,
   "id": "3e331c59",
   "metadata": {},
   "outputs": [],
   "source": []
  }
 ],
 "metadata": {
  "kernelspec": {
   "display_name": "Python 3 (ipykernel)",
   "language": "python",
   "name": "python3"
  },
  "language_info": {
   "codemirror_mode": {
    "name": "ipython",
    "version": 3
   },
   "file_extension": ".py",
   "mimetype": "text/x-python",
   "name": "python",
   "nbconvert_exporter": "python",
   "pygments_lexer": "ipython3",
   "version": "3.11.2"
  }
 },
 "nbformat": 4,
 "nbformat_minor": 5
}
